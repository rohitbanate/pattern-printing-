{
 "cells": [
  {
   "cell_type": "markdown",
   "id": "902fefb1",
   "metadata": {},
   "source": [
    "### Python | Print an Inverted Star Pattern\n"
   ]
  },
  {
   "cell_type": "markdown",
   "id": "43828b55",
   "metadata": {},
   "source": [
    "n = 10 \n",
    "\n",
    "for i in range(n, 0, -1):\n",
    "    print((n-1)* ' ' + i* '*')"
   ]
  },
  {
   "cell_type": "code",
   "execution_count": 2,
   "id": "91556c8a",
   "metadata": {},
   "outputs": [
    {
     "name": "stdout",
     "output_type": "stream",
     "text": [
      "*****\n",
      "****\n",
      "***\n",
      "**\n",
      "*\n",
      "None\n"
     ]
    }
   ],
   "source": [
    "def invert_star(length):\n",
    "        if length > 0:\n",
    "            print('*' * length)\n",
    "            invert_star(length-1)\n",
    "        \n",
    "length = 5        \n",
    "print(invert_star(length))"
   ]
  },
  {
   "cell_type": "markdown",
   "id": "aef74c2f",
   "metadata": {},
   "source": [
    "### Python | Print an Star Pattern\n"
   ]
  },
  {
   "cell_type": "code",
   "execution_count": 17,
   "id": "c0399126",
   "metadata": {},
   "outputs": [
    {
     "name": "stdout",
     "output_type": "stream",
     "text": [
      "\n",
      "*\n",
      "**\n",
      "***\n",
      "****\n",
      "*****\n",
      "None\n"
     ]
    }
   ],
   "source": [
    "def star(length):\n",
    "    for i in range(length+1):\n",
    "        print('*'* i )\n",
    "        \n",
    "        \n",
    "length = 5        \n",
    "print(star(length))"
   ]
  },
  {
   "cell_type": "code",
   "execution_count": 28,
   "id": "45bfdef4",
   "metadata": {},
   "outputs": [
    {
     "name": "stdout",
     "output_type": "stream",
     "text": [
      "enter the length :7\n",
      "*\n",
      "**\n",
      "***\n",
      "****\n",
      "*****\n",
      "******\n",
      "*******\n",
      "None\n"
     ]
    }
   ],
   "source": [
    "def star(length):\n",
    "    for i in range(length):\n",
    "        for j in range(i+1):\n",
    "            print(\"*\", end = \"\")\n",
    "        print()\n",
    "\n",
    "    \n",
    "length = int(input(\"enter the length :\"))        \n",
    "print(star(length))\n"
   ]
  },
  {
   "cell_type": "markdown",
   "id": "afc5c496",
   "metadata": {},
   "source": [
    "### Square of Stars"
   ]
  },
  {
   "cell_type": "code",
   "execution_count": 41,
   "id": "edebe94b",
   "metadata": {},
   "outputs": [
    {
     "name": "stdout",
     "output_type": "stream",
     "text": [
      "*****\n",
      "*****\n",
      "*****\n",
      "*****\n",
      "*****\n",
      "None\n"
     ]
    }
   ],
   "source": [
    "def square(length):\n",
    "    for i in range(length):\n",
    "        for j in range(length):\n",
    "            print(\"*\", end = '')\n",
    "        print()\n",
    "\n",
    "    \n",
    "    \n",
    "length = 5        \n",
    "print(square(length))"
   ]
  },
  {
   "cell_type": "markdown",
   "id": "b52847cc",
   "metadata": {},
   "source": [
    "### Left Triangle of Stars"
   ]
  },
  {
   "cell_type": "code",
   "execution_count": 43,
   "id": "9798c45d",
   "metadata": {},
   "outputs": [
    {
     "name": "stdout",
     "output_type": "stream",
     "text": [
      "    *\n",
      "   **\n",
      "  ***\n",
      " ****\n",
      "*****\n",
      "None\n"
     ]
    }
   ],
   "source": [
    "def left_triangle(length):\n",
    "    \n",
    "    for i in range(0,length):\n",
    "        for j in range(length,0, -1):\n",
    "            if j >i +1:\n",
    "                print(\" \",end = \"\")\n",
    "                \n",
    "            else:\n",
    "                print(\"*\", end = \"\")\n",
    "                \n",
    "        print()\n",
    "            \n",
    "    \n",
    "\n",
    "length = 5        \n",
    "print(left_triangle(length))"
   ]
  },
  {
   "cell_type": "markdown",
   "id": "016d8c0e",
   "metadata": {},
   "source": [
    "### Program to print the pattern ‘G’\n"
   ]
  },
  {
   "cell_type": "code",
   "execution_count": 1,
   "id": "e00f4c74",
   "metadata": {},
   "outputs": [
    {
     "name": "stdout",
     "output_type": "stream",
     "text": [
      "  ******  \n",
      " *        \n",
      " *        \n",
      " *        \n",
      " *        \n",
      " *      * \n",
      " *      * \n",
      " *      * \n",
      " *      * \n",
      "  ******  \n",
      "\n"
     ]
    }
   ],
   "source": [
    "def Pattern(line): \n",
    "    pat=\"\" \n",
    "    for i in range(0,line):\t \n",
    "        for j in range(0,line):\n",
    "            if ((j == 1 and i != 0 and i != line-1)or\n",
    "                ((i == 0 or i == line-1)and j>1 and j <line-2)or\n",
    "               (j==line-2 and i!=0 and i!= line-1 and i>=(line/2))):\n",
    "               \n",
    "            \n",
    "            \n",
    "                pat=pat+\"*\"\n",
    "            else:\n",
    "                pat=pat+\" \"\n",
    "        pat=pat+\"\\n\"\n",
    "    return pat\n",
    "                \n",
    "\n",
    "line = 10\n",
    "\n",
    "print(Pattern(line))               "
   ]
  },
  {
   "cell_type": "markdown",
   "id": "6ecb9d79",
   "metadata": {},
   "source": [
    "### Python 3 | Program to print double sided stair-case pattern\n"
   ]
  },
  {
   "cell_type": "code",
   "execution_count": 46,
   "id": "2cdd431d",
   "metadata": {},
   "outputs": [
    {
     "name": "stdout",
     "output_type": "stream",
     "text": [
      "        * \n",
      "       * * \n",
      "      * * * \n",
      "     * * * * \n",
      "    * * * * * \n",
      "   * * * * * * \n",
      "  * * * * * * * \n",
      " * * * * * * * * \n",
      "* * * * * * * * * \n"
     ]
    }
   ],
   "source": [
    "def draw_pyramid(rows):\n",
    "    \"\"\"\n",
    "    Function to draw a pyramid pattern.\n",
    "\n",
    "    Parameters:\n",
    "    - rows: Number of rows in the pyramid.\n",
    "    \"\"\"\n",
    "    for i in range(rows):\n",
    "        # Print leading spaces\n",
    "        print(\" \" * (rows - i - 1), end=\"\")\n",
    "        \n",
    "        # Print left half of the pyramid\n",
    "        for j in range(i + 1):\n",
    "            print(\"*\", end=\" \")\n",
    "        \n",
    "        \n",
    "        # Move to the next line after printing each row\n",
    "        print()\n",
    "\n",
    "# Example usage:\n",
    "rows = 9\n",
    "draw_pyramid(rows)\n"
   ]
  },
  {
   "cell_type": "code",
   "execution_count": 36,
   "id": "d670b8cc",
   "metadata": {
    "scrolled": true
   },
   "outputs": [
    {
     "name": "stdout",
     "output_type": "stream",
     "text": [
      "       *\n",
      "      ***\n",
      "     *****\n",
      "    *******\n",
      "   *********\n",
      "  ***********\n",
      " *************\n",
      "None\n"
     ]
    }
   ],
   "source": [
    "def pyramid(length):\n",
    "    \n",
    "    for i in range( length):\n",
    "        print(\" \" * (length - i-1), end = \" \")\n",
    "        \n",
    "        for j in range(i+1):\n",
    "            print(\"*\", end =\"\")\n",
    "            \n",
    "        for k in range(i):\n",
    "            print(\"*\", end =\"\")\n",
    "        print()\n",
    "    \n",
    "length = 7\n",
    "print(pyramid(length))"
   ]
  },
  {
   "cell_type": "markdown",
   "id": "63ee3b9c",
   "metadata": {},
   "source": [
    "### dimond pattern \n"
   ]
  },
  {
   "cell_type": "code",
   "execution_count": 45,
   "id": "ec371e4e",
   "metadata": {},
   "outputs": [
    {
     "name": "stdout",
     "output_type": "stream",
     "text": [
      "    *\n",
      "   **\n",
      "  ***\n",
      " ****\n",
      "*****\n",
      " * * * * \n",
      "  * * * \n",
      "   * * \n",
      "    * \n",
      "None\n"
     ]
    }
   ],
   "source": [
    "def dimond(len):\n",
    "    for i in range(len):\n",
    "        print(\" \"* (len - i- 1) + \"* \"* (i+1))\n",
    "    for i in range(len-2, -1 , -1):\n",
    "        print(\" \" * (len-i-1)+ \"* \"*(i+1))\n",
    "    \n",
    "print(dimond(5))"
   ]
  },
  {
   "cell_type": "markdown",
   "id": "c2544d24",
   "metadata": {},
   "source": [
    "### left pattern "
   ]
  },
  {
   "cell_type": "code",
   "execution_count": 62,
   "id": "d3ed265c",
   "metadata": {},
   "outputs": [
    {
     "name": "stdout",
     "output_type": "stream",
     "text": [
      "   *\n",
      "  **\n",
      " ***\n",
      "****\n",
      "None\n"
     ]
    }
   ],
   "source": [
    "def pattern(n):\n",
    "    for i in range(n):\n",
    "        print(\" \" * (n-i-1)+\"*\"*(i+1))\n",
    "        \n",
    "print(pattern(4))"
   ]
  },
  {
   "cell_type": "markdown",
   "id": "3fd3d550",
   "metadata": {},
   "source": [
    "### right pattern "
   ]
  },
  {
   "cell_type": "code",
   "execution_count": 59,
   "id": "8f9943b5",
   "metadata": {
    "scrolled": true
   },
   "outputs": [
    {
     "name": "stdout",
     "output_type": "stream",
     "text": [
      "*\n",
      "**\n",
      "***\n",
      "****\n",
      "*****\n",
      "None\n"
     ]
    }
   ],
   "source": [
    "def right(n):\n",
    "    for i in range(n):\n",
    "        print(\"\" *(n-i-1)+\"*\"*(i+1))\n",
    "        \n",
    "print(right(5))"
   ]
  },
  {
   "cell_type": "markdown",
   "id": "471ad53c",
   "metadata": {},
   "source": [
    "### Hollow Square Pattern:\n",
    " "
   ]
  },
  {
   "cell_type": "code",
   "execution_count": 84,
   "id": "96139415",
   "metadata": {},
   "outputs": [
    {
     "name": "stdout",
     "output_type": "stream",
     "text": [
      "* * * * * * \n",
      "*         *\n",
      "*         *\n",
      "*         *\n",
      "*         *\n",
      "* * * * * * \n",
      "None\n"
     ]
    }
   ],
   "source": [
    "def empty_square(n):\n",
    "    \n",
    "    for i in range(n):\n",
    "        if i==0 or i==n-1:\n",
    "            print(\"* \"*(n))\n",
    "        else:\n",
    "            print(\"* \"+ \" \"*(n+2)+\"*\")\n",
    "    \n",
    "print(empty_square(6))"
   ]
  },
  {
   "cell_type": "code",
   "execution_count": null,
   "id": "e0519cb7",
   "metadata": {},
   "outputs": [],
   "source": []
  }
 ],
 "metadata": {
  "kernelspec": {
   "display_name": "Python 3 (ipykernel)",
   "language": "python",
   "name": "python3"
  },
  "language_info": {
   "codemirror_mode": {
    "name": "ipython",
    "version": 3
   },
   "file_extension": ".py",
   "mimetype": "text/x-python",
   "name": "python",
   "nbconvert_exporter": "python",
   "pygments_lexer": "ipython3",
   "version": "3.10.9"
  }
 },
 "nbformat": 4,
 "nbformat_minor": 5
}
